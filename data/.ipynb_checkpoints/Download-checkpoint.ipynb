{
 "cells": [
  {
   "cell_type": "code",
   "execution_count": 1,
   "metadata": {},
   "outputs": [
    {
     "name": "stdout",
     "output_type": "stream",
     "text": [
      "--2019-04-05 13:47:16--  https://s3.amazonaws.com/ml-lab-mggaska/ml-lab-keras-to-tf/model.h5\n",
      "Resolving s3.amazonaws.com (s3.amazonaws.com)... 52.216.137.190\n",
      "Connecting to s3.amazonaws.com (s3.amazonaws.com)|52.216.137.190|:443... connected.\n",
      "HTTP request sent, awaiting response... 200 OK\n",
      "Length: 209602136 (200M) [application/x-www-form-urlencoded]\n",
      "Saving to: ‘model.h5’\n",
      "\n",
      "model.h5            100%[===================>] 199.89M  51.5MB/s    in 3.9s    \n",
      "\n",
      "2019-04-05 13:47:20 (51.7 MB/s) - ‘model.h5’ saved [209602136/209602136]\n",
      "\n",
      "--2019-04-05 13:47:20--  https://s3.amazonaws.com/ml-lab-mggaska/ml-lab-keras-to-tf/model.json\n",
      "Resolving s3.amazonaws.com (s3.amazonaws.com)... 52.216.21.101\n",
      "Connecting to s3.amazonaws.com (s3.amazonaws.com)|52.216.21.101|:443... connected.\n",
      "HTTP request sent, awaiting response... 200 OK\n",
      "Length: 79739 (78K) [application/json]\n",
      "Saving to: ‘model.json’\n",
      "\n",
      "model.json          100%[===================>]  77.87K  --.-KB/s    in 0.005s  \n",
      "\n",
      "2019-04-05 13:47:20 (16.1 MB/s) - ‘model.json’ saved [79739/79739]\n",
      "\n"
     ]
    }
   ],
   "source": [
    "!wget  https://s3.amazonaws.com/ml-lab-mggaska/ml-lab-keras-to-tf/model.h5\n",
    "\n",
    "!wget https://s3.amazonaws.com/ml-lab-mggaska/ml-lab-keras-to-tf/model.json"
   ]
  },
  {
   "cell_type": "code",
   "execution_count": null,
   "metadata": {},
   "outputs": [],
   "source": []
  }
 ],
 "metadata": {
  "kernelspec": {
   "display_name": "conda_python3",
   "language": "python",
   "name": "conda_python3"
  },
  "language_info": {
   "codemirror_mode": {
    "name": "ipython",
    "version": 3
   },
   "file_extension": ".py",
   "mimetype": "text/x-python",
   "name": "python",
   "nbconvert_exporter": "python",
   "pygments_lexer": "ipython3",
   "version": "3.6.5"
  }
 },
 "nbformat": 4,
 "nbformat_minor": 2
}
